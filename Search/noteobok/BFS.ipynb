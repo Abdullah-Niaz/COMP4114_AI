{
 "cells": [
  {
   "cell_type": "code",
   "execution_count": 7,
   "id": "f6a69394",
   "metadata": {},
   "outputs": [
    {
     "name": "stdout",
     "output_type": "stream",
     "text": [
      "BFS Traversal Order: ['A']\n",
      "Visited Node : {'A'}\n",
      "Visited Node : {'B', 'A'}\n",
      "BFS Traversal Order: ['A', 'B']\n",
      "Visited Node : {'B', 'A', 'C'}\n",
      "Visited Node : {'B', 'D', 'A', 'C'}\n",
      "BFS Traversal Order: ['A', 'B', 'C']\n",
      "Visited Node : {'D', 'A', 'C', 'E', 'B'}\n",
      "BFS Traversal Order: ['A', 'B', 'C', 'D']\n",
      "BFS Traversal Order: ['A', 'B', 'C', 'D', 'E']\n",
      "BFS Traversal Order: ['A', 'B', 'C', 'D', 'E', 'F']\n",
      "BFS traversal starting from 'A': ['A', 'B', 'C', 'D', 'E', 'F']\n"
     ]
    }
   ],
   "source": [
    "from collections import deque\n",
    "\n",
    "def bfs(graph, start_node):\n",
    "    \"\"\"\n",
    "    Performs a Breadth-First Search (BFS) on a graph.\n",
    "\n",
    "    Args:\n",
    "        graph (dict): A dictionary representing the graph where keys are nodes\n",
    "                      and values are lists of their adjacent nodes.\n",
    "        start_node: The starting node for the BFS traversal.\n",
    "\n",
    "    Returns:\n",
    "        list: A list of nodes in the order they were visited during BFS.\n",
    "    \"\"\"\n",
    "    visited = set()  # To keep track of visited nodes \n",
    "    queue = deque()  # A queue to store nodes to be explored\n",
    "\n",
    "    visited.add(start_node)\n",
    "    queue.append(start_node)\n",
    "    bfs_traversal_order = []\n",
    "\n",
    "    while queue:\n",
    "        current_node = queue.popleft()  # Dequeue the first node\n",
    "        bfs_traversal_order.append(current_node)\n",
    "        print(f\"BFS Traversal Order: {bfs_traversal_order}\")\n",
    "\n",
    "        for neighbor in graph[current_node]:\n",
    "            if neighbor not in visited:\n",
    "                print(f\"Visited Node : {visited}\")\n",
    "                visited.add(neighbor)\n",
    "                queue.append(neighbor)\n",
    "    \n",
    "    return bfs_traversal_order\n",
    "\n",
    "# Example Usage:\n",
    "if __name__ == \"__main__\":\n",
    "    # Representing a graph using an adjacency list (dictionary)\n",
    "    graph = {\n",
    "        'A': ['B', 'C'],\n",
    "        'B': ['A', 'D', 'E'],\n",
    "        'C': ['A', 'F'],\n",
    "        'D': ['B'],\n",
    "        'E': ['B', 'F'],\n",
    "        'F': ['C', 'E']\n",
    "    }\n",
    "\n",
    "    start_node = 'A'\n",
    "    traversal_result = bfs(graph, start_node)\n",
    "    print(f\"BFS traversal starting from '{start_node}': {traversal_result}\")\n",
    "\n",
    "    # graph2 = {\n",
    "    #     0: [1, 2],\n",
    "    #     1: [0, 3],\n",
    "    #     2: [0, 4],\n",
    "    #     3: [1],\n",
    "    #     4: [2]\n",
    "    # }\n",
    "    # start_node2 = 0\n",
    "    # traversal_result2 = bfs(graph2, start_node2)\n",
    "    # print(f\"BFS traversal starting from '{start_node2}': {traversal_result2}\")"
   ]
  },
  {
   "cell_type": "code",
   "execution_count": 2,
   "id": "d58202f8",
   "metadata": {},
   "outputs": [
    {
     "data": {
      "text/plain": [
       "'\\n    Performs a Breadth-First Search (BFS) on a graph.\\n\\n    Args:\\n        graph (dict): A dictionary representing the graph where keys are nodes\\n                      and values are lists of their adjacent nodes.\\n        start_node: The starting node for the BFS traversal.\\n\\n    Returns:\\n        list: A list of nodes in the order they were visited during BFS.\\n    '"
      ]
     },
     "execution_count": 2,
     "metadata": {},
     "output_type": "execute_result"
    }
   ],
   "source": [
    "bfs.__doc__"
   ]
  }
 ],
 "metadata": {
  "kernelspec": {
   "display_name": "base",
   "language": "python",
   "name": "python3"
  },
  "language_info": {
   "codemirror_mode": {
    "name": "ipython",
    "version": 3
   },
   "file_extension": ".py",
   "mimetype": "text/x-python",
   "name": "python",
   "nbconvert_exporter": "python",
   "pygments_lexer": "ipython3",
   "version": "3.12.4"
  }
 },
 "nbformat": 4,
 "nbformat_minor": 5
}
